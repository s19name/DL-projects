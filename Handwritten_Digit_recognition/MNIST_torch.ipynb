{
 "cells": [
  {
   "cell_type": "code",
   "execution_count": 1,
   "id": "8513bbee",
   "metadata": {},
   "outputs": [],
   "source": [
    "import numpy as np\n",
    "import torch as nn\n"
   ]
  },
  {
   "cell_type": "code",
   "execution_count": 2,
   "id": "b0cf75dd",
   "metadata": {},
   "outputs": [],
   "source": [
    "from torchvision import datasets\n",
    "from torchvision.transforms import ToTensor"
   ]
  },
  {
   "cell_type": "code",
   "execution_count": 3,
   "id": "2041ea19",
   "metadata": {},
   "outputs": [],
   "source": [
    "train_data = datasets.MNIST(\n",
    "    root='data',\n",
    "    train=True,\n",
    "    transform=ToTensor(),\n",
    "    download=True\n",
    ")\n",
    "test_data = datasets.MNIST(\n",
    "    root='data',\n",
    "    train=False,\n",
    "    transform=ToTensor(),\n",
    "    download=True\n",
    ")"
   ]
  },
  {
   "cell_type": "code",
   "execution_count": 4,
   "id": "3efbdc10",
   "metadata": {},
   "outputs": [
    {
     "data": {
      "text/plain": [
       "Dataset MNIST\n",
       "    Number of datapoints: 60000\n",
       "    Root location: data\n",
       "    Split: Train\n",
       "    StandardTransform\n",
       "Transform: ToTensor()"
      ]
     },
     "execution_count": 4,
     "metadata": {},
     "output_type": "execute_result"
    }
   ],
   "source": [
    "train_data"
   ]
  },
  {
   "cell_type": "code",
   "execution_count": 5,
   "id": "22026c0b",
   "metadata": {},
   "outputs": [
    {
     "data": {
      "text/plain": [
       "Dataset MNIST\n",
       "    Number of datapoints: 10000\n",
       "    Root location: data\n",
       "    Split: Test\n",
       "    StandardTransform\n",
       "Transform: ToTensor()"
      ]
     },
     "execution_count": 5,
     "metadata": {},
     "output_type": "execute_result"
    }
   ],
   "source": [
    "test_data"
   ]
  },
  {
   "cell_type": "code",
   "execution_count": 6,
   "id": "0b7665bc",
   "metadata": {},
   "outputs": [
    {
     "data": {
      "text/plain": [
       "torch.Size([10000, 28, 28])"
      ]
     },
     "execution_count": 6,
     "metadata": {},
     "output_type": "execute_result"
    }
   ],
   "source": [
    "test_data.data.shape"
   ]
  },
  {
   "cell_type": "code",
   "execution_count": 7,
   "id": "b84ecdbd",
   "metadata": {},
   "outputs": [
    {
     "data": {
      "text/plain": [
       "torch.Size([60000, 28, 28])"
      ]
     },
     "execution_count": 7,
     "metadata": {},
     "output_type": "execute_result"
    }
   ],
   "source": [
    "train_data.data.shape"
   ]
  },
  {
   "cell_type": "code",
   "execution_count": 8,
   "id": "76fb3fc8",
   "metadata": {},
   "outputs": [
    {
     "data": {
      "text/plain": [
       "torch.Size([60000])"
      ]
     },
     "execution_count": 8,
     "metadata": {},
     "output_type": "execute_result"
    }
   ],
   "source": [
    "train_data.targets.size()"
   ]
  },
  {
   "cell_type": "code",
   "execution_count": 9,
   "id": "bb93dd63",
   "metadata": {},
   "outputs": [
    {
     "data": {
      "text/plain": [
       "tensor([5, 0, 4,  ..., 5, 6, 8])"
      ]
     },
     "execution_count": 9,
     "metadata": {},
     "output_type": "execute_result"
    }
   ],
   "source": [
    "train_data.targets"
   ]
  },
  {
   "cell_type": "code",
   "execution_count": 10,
   "id": "4961d26e",
   "metadata": {},
   "outputs": [
    {
     "data": {
      "text/plain": [
       "tensor([7, 2, 1,  ..., 4, 5, 6])"
      ]
     },
     "execution_count": 10,
     "metadata": {},
     "output_type": "execute_result"
    }
   ],
   "source": [
    "test_data.targets"
   ]
  },
  {
   "cell_type": "code",
   "execution_count": 11,
   "id": "0255ccc4",
   "metadata": {},
   "outputs": [],
   "source": [
    "from torch.utils.data import DataLoader\n",
    "\n",
    "loaders = { \n",
    "    'train': DataLoader(train_data,\n",
    "                        batch_size=100,\n",
    "                        shuffle=True,\n",
    "                        num_workers=1),\n",
    "    'test': DataLoader(test_data,\n",
    "                        batch_size=100,\n",
    "                        shuffle=True,\n",
    "                        num_workers=1),\n",
    "\n",
    "}"
   ]
  },
  {
   "cell_type": "code",
   "execution_count": 12,
   "id": "160438b8",
   "metadata": {},
   "outputs": [],
   "source": [
    "import torch.nn as nn\n",
    "import torch.nn.functional as F\n",
    "import torch.optim as optim"
   ]
  },
  {
   "cell_type": "code",
   "execution_count": 21,
   "id": "8bd8adfb",
   "metadata": {},
   "outputs": [],
   "source": [
    "class CNN(nn.Module):\n",
    "    def __init__(self):\n",
    "        super(CNN, self).__init__()\n",
    "\n",
    "        self.conv1 = nn.Conv2d(1,10, kernel_size=5)\n",
    "        self.conv2 = nn.Conv2d(10,20, kernel_size=5)\n",
    "        self.conv2_drop = nn.Dropout2d()\n",
    "        self.fc1 = nn.Linear(320,50)\n",
    "        self.fc2 = nn.Linear(50,10)\n",
    "\n",
    "    def forward(self, x):\n",
    "        x=F.relu(F.max_pool2d(self.conv1(x),2 ))\n",
    "        x=F.relu(F.max_pool2d(self.conv2_drop(self.conv2(x)), 2))\n",
    "        x=x.view(-1,320)\n",
    "        x=F.relu(self.fc1(x))\n",
    "        x=F.dropout(x, training=self.training)\n",
    "        x=self.fc2(x)\n",
    "\n",
    "        return F.softmax(x)\n",
    "    \n",
    "\n",
    "\n"
   ]
  },
  {
   "cell_type": "code",
   "execution_count": 22,
   "id": "5db64176",
   "metadata": {},
   "outputs": [],
   "source": [
    "import torch\n",
    "device = torch.device('cuda' if torch.cuda.is_available() else 'cpu')\n",
    "\n",
    "\n",
    "model=CNN().to(device)\n",
    "\n",
    "optimizer=optim.Adam(model.parameters(), lr=0.001)\n",
    "\n",
    "loss_fn = nn.CrossEntropyLoss()\n",
    "\n",
    "def train(epoch):\n",
    "    model.train()\n",
    "    for batch_idx, (data, target) in enumerate(loaders['train']):\n",
    "        data, target = data.to(device), target.to(device)\n",
    "\n",
    "        optimizer.zero_grad()\n",
    "        output = model(data)\n",
    "        loss = loss_fn(output, target)\n",
    "        loss.backward()\n",
    "        optimizer.step()\n",
    "        if batch_idx % 20 ==0:\n",
    "            #print(f'Train epoch: {epoch} [{batch_idx * len(data)}/{len(loaders['train'].dataset)} ({100. * batch_idx / len(loaders['train']):.0f}%)]\\t{loss.item():.6f}')\n",
    "            print(f\"Train epoch: {epoch} [{batch_idx * len(data)}/{len(loaders['train'].dataset)} ({100. * batch_idx / len(loaders['train']):.0f}%)]\\t{loss.item():.6f}\")\n",
    "\n"
   ]
  },
  {
   "cell_type": "code",
   "execution_count": 23,
   "id": "ba06d16b",
   "metadata": {},
   "outputs": [],
   "source": [
    "def test():\n",
    "    model.eval()\n",
    "    test_loss=0\n",
    "    correct = 0\n",
    "    with torch.no_grad():\n",
    "        for data, target in loaders['test']:\n",
    "            data, target = data.to(device), target.to(device)\n",
    "            output = model(data)\n",
    "            test_loss += loss_fn(output, target).item()\n",
    "\n",
    "            pred= output.argmax(dim = 1, keepdim = True)\n",
    "            correct+= pred.eq(target.view_as(pred)).sum().item()\n",
    "\n",
    "    test_loss /= len(loaders['test'].dataset)\n",
    "    print(f'\\n Test set: Average loss: {test_loss:.4f}, Accuracy {correct}/{len(loaders[\"test\"].dataset)} ({1000. *correct / len(loaders[\"test\"].dataset):.0f}%\\n)')"
   ]
  },
  {
   "cell_type": "code",
   "execution_count": 24,
   "id": "77d52362",
   "metadata": {},
   "outputs": [
    {
     "name": "stderr",
     "output_type": "stream",
     "text": [
      "C:\\Users\\mukha\\AppData\\Local\\Temp\\ipykernel_28932\\1969689584.py:19: UserWarning: Implicit dimension choice for softmax has been deprecated. Change the call to include dim=X as an argument.\n",
      "  return F.softmax(x)\n"
     ]
    },
    {
     "name": "stdout",
     "output_type": "stream",
     "text": [
      "Train epoch: 1 [0/60000 (0%)]\t2.302645\n",
      "Train epoch: 1 [2000/60000 (3%)]\t2.289344\n",
      "Train epoch: 1 [4000/60000 (7%)]\t2.175595\n",
      "Train epoch: 1 [6000/60000 (10%)]\t2.014043\n",
      "Train epoch: 1 [8000/60000 (13%)]\t1.949718\n",
      "Train epoch: 1 [10000/60000 (17%)]\t1.837487\n",
      "Train epoch: 1 [12000/60000 (20%)]\t1.719165\n",
      "Train epoch: 1 [14000/60000 (23%)]\t1.790082\n",
      "Train epoch: 1 [16000/60000 (27%)]\t1.716530\n",
      "Train epoch: 1 [18000/60000 (30%)]\t1.693709\n",
      "Train epoch: 1 [20000/60000 (33%)]\t1.706974\n",
      "Train epoch: 1 [22000/60000 (37%)]\t1.670725\n",
      "Train epoch: 1 [24000/60000 (40%)]\t1.699229\n",
      "Train epoch: 1 [26000/60000 (43%)]\t1.739758\n",
      "Train epoch: 1 [28000/60000 (47%)]\t1.675916\n",
      "Train epoch: 1 [30000/60000 (50%)]\t1.587371\n",
      "Train epoch: 1 [32000/60000 (53%)]\t1.621095\n",
      "Train epoch: 1 [34000/60000 (57%)]\t1.627029\n",
      "Train epoch: 1 [36000/60000 (60%)]\t1.641435\n",
      "Train epoch: 1 [38000/60000 (63%)]\t1.608473\n",
      "Train epoch: 1 [40000/60000 (67%)]\t1.594854\n",
      "Train epoch: 1 [42000/60000 (70%)]\t1.639417\n",
      "Train epoch: 1 [44000/60000 (73%)]\t1.675707\n",
      "Train epoch: 1 [46000/60000 (77%)]\t1.614495\n",
      "Train epoch: 1 [48000/60000 (80%)]\t1.661319\n",
      "Train epoch: 1 [50000/60000 (83%)]\t1.633517\n",
      "Train epoch: 1 [52000/60000 (87%)]\t1.661047\n",
      "Train epoch: 1 [54000/60000 (90%)]\t1.545738\n",
      "Train epoch: 1 [56000/60000 (93%)]\t1.664286\n",
      "Train epoch: 1 [58000/60000 (97%)]\t1.604734\n",
      "\n",
      " Test set: Average loss: 0.0154, Accuracy 9285/10000 (928%\n",
      ")\n",
      "Train epoch: 2 [0/60000 (0%)]\t1.564011\n",
      "Train epoch: 2 [2000/60000 (3%)]\t1.593998\n",
      "Train epoch: 2 [4000/60000 (7%)]\t1.597513\n",
      "Train epoch: 2 [6000/60000 (10%)]\t1.617917\n",
      "Train epoch: 2 [8000/60000 (13%)]\t1.636069\n",
      "Train epoch: 2 [10000/60000 (17%)]\t1.625363\n",
      "Train epoch: 2 [12000/60000 (20%)]\t1.656460\n",
      "Train epoch: 2 [14000/60000 (23%)]\t1.568153\n",
      "Train epoch: 2 [16000/60000 (27%)]\t1.621451\n",
      "Train epoch: 2 [18000/60000 (30%)]\t1.569698\n",
      "Train epoch: 2 [20000/60000 (33%)]\t1.656454\n",
      "Train epoch: 2 [22000/60000 (37%)]\t1.531849\n",
      "Train epoch: 2 [24000/60000 (40%)]\t1.640463\n",
      "Train epoch: 2 [26000/60000 (43%)]\t1.616812\n",
      "Train epoch: 2 [28000/60000 (47%)]\t1.556494\n",
      "Train epoch: 2 [30000/60000 (50%)]\t1.610344\n",
      "Train epoch: 2 [32000/60000 (53%)]\t1.585976\n",
      "Train epoch: 2 [34000/60000 (57%)]\t1.624754\n",
      "Train epoch: 2 [36000/60000 (60%)]\t1.575980\n",
      "Train epoch: 2 [38000/60000 (63%)]\t1.554685\n",
      "Train epoch: 2 [40000/60000 (67%)]\t1.594389\n",
      "Train epoch: 2 [42000/60000 (70%)]\t1.622916\n",
      "Train epoch: 2 [44000/60000 (73%)]\t1.567954\n",
      "Train epoch: 2 [46000/60000 (77%)]\t1.600152\n",
      "Train epoch: 2 [48000/60000 (80%)]\t1.524420\n",
      "Train epoch: 2 [50000/60000 (83%)]\t1.604317\n",
      "Train epoch: 2 [52000/60000 (87%)]\t1.583092\n",
      "Train epoch: 2 [54000/60000 (90%)]\t1.528035\n",
      "Train epoch: 2 [56000/60000 (93%)]\t1.536771\n",
      "Train epoch: 2 [58000/60000 (97%)]\t1.597236\n",
      "\n",
      " Test set: Average loss: 0.0151, Accuracy 9474/10000 (947%\n",
      ")\n",
      "Train epoch: 3 [0/60000 (0%)]\t1.570380\n",
      "Train epoch: 3 [2000/60000 (3%)]\t1.566801\n",
      "Train epoch: 3 [4000/60000 (7%)]\t1.571438\n",
      "Train epoch: 3 [6000/60000 (10%)]\t1.576135\n",
      "Train epoch: 3 [8000/60000 (13%)]\t1.600299\n",
      "Train epoch: 3 [10000/60000 (17%)]\t1.561506\n",
      "Train epoch: 3 [12000/60000 (20%)]\t1.590414\n",
      "Train epoch: 3 [14000/60000 (23%)]\t1.547845\n",
      "Train epoch: 3 [16000/60000 (27%)]\t1.558037\n",
      "Train epoch: 3 [18000/60000 (30%)]\t1.522155\n",
      "Train epoch: 3 [20000/60000 (33%)]\t1.607454\n",
      "Train epoch: 3 [22000/60000 (37%)]\t1.580371\n",
      "Train epoch: 3 [24000/60000 (40%)]\t1.535331\n",
      "Train epoch: 3 [26000/60000 (43%)]\t1.587249\n",
      "Train epoch: 3 [28000/60000 (47%)]\t1.575994\n",
      "Train epoch: 3 [30000/60000 (50%)]\t1.595353\n",
      "Train epoch: 3 [32000/60000 (53%)]\t1.565943\n",
      "Train epoch: 3 [34000/60000 (57%)]\t1.548495\n",
      "Train epoch: 3 [36000/60000 (60%)]\t1.554971\n",
      "Train epoch: 3 [38000/60000 (63%)]\t1.576983\n",
      "Train epoch: 3 [40000/60000 (67%)]\t1.604011\n",
      "Train epoch: 3 [42000/60000 (70%)]\t1.595107\n",
      "Train epoch: 3 [44000/60000 (73%)]\t1.570578\n",
      "Train epoch: 3 [46000/60000 (77%)]\t1.548336\n",
      "Train epoch: 3 [48000/60000 (80%)]\t1.544140\n",
      "Train epoch: 3 [50000/60000 (83%)]\t1.526955\n",
      "Train epoch: 3 [52000/60000 (87%)]\t1.579662\n",
      "Train epoch: 3 [54000/60000 (90%)]\t1.544292\n",
      "Train epoch: 3 [56000/60000 (93%)]\t1.577796\n",
      "Train epoch: 3 [58000/60000 (97%)]\t1.563168\n",
      "\n",
      " Test set: Average loss: 0.0151, Accuracy 9556/10000 (956%\n",
      ")\n",
      "Train epoch: 4 [0/60000 (0%)]\t1.546608\n",
      "Train epoch: 4 [2000/60000 (3%)]\t1.555671\n",
      "Train epoch: 4 [4000/60000 (7%)]\t1.554207\n",
      "Train epoch: 4 [6000/60000 (10%)]\t1.555371\n",
      "Train epoch: 4 [8000/60000 (13%)]\t1.560873\n",
      "Train epoch: 4 [10000/60000 (17%)]\t1.537451\n",
      "Train epoch: 4 [12000/60000 (20%)]\t1.510315\n",
      "Train epoch: 4 [14000/60000 (23%)]\t1.585811\n",
      "Train epoch: 4 [16000/60000 (27%)]\t1.569629\n",
      "Train epoch: 4 [18000/60000 (30%)]\t1.557938\n",
      "Train epoch: 4 [20000/60000 (33%)]\t1.565569\n",
      "Train epoch: 4 [22000/60000 (37%)]\t1.566104\n",
      "Train epoch: 4 [24000/60000 (40%)]\t1.572276\n",
      "Train epoch: 4 [26000/60000 (43%)]\t1.541359\n",
      "Train epoch: 4 [28000/60000 (47%)]\t1.584294\n",
      "Train epoch: 4 [30000/60000 (50%)]\t1.555766\n",
      "Train epoch: 4 [32000/60000 (53%)]\t1.552250\n",
      "Train epoch: 4 [34000/60000 (57%)]\t1.553705\n",
      "Train epoch: 4 [36000/60000 (60%)]\t1.575393\n",
      "Train epoch: 4 [38000/60000 (63%)]\t1.525212\n",
      "Train epoch: 4 [40000/60000 (67%)]\t1.538548\n",
      "Train epoch: 4 [42000/60000 (70%)]\t1.557660\n",
      "Train epoch: 4 [44000/60000 (73%)]\t1.528683\n",
      "Train epoch: 4 [46000/60000 (77%)]\t1.513123\n",
      "Train epoch: 4 [48000/60000 (80%)]\t1.542184\n",
      "Train epoch: 4 [50000/60000 (83%)]\t1.513909\n",
      "Train epoch: 4 [52000/60000 (87%)]\t1.550811\n",
      "Train epoch: 4 [54000/60000 (90%)]\t1.555717\n",
      "Train epoch: 4 [56000/60000 (93%)]\t1.569757\n",
      "Train epoch: 4 [58000/60000 (97%)]\t1.560952\n",
      "\n",
      " Test set: Average loss: 0.0150, Accuracy 9618/10000 (962%\n",
      ")\n",
      "Train epoch: 5 [0/60000 (0%)]\t1.564334\n",
      "Train epoch: 5 [2000/60000 (3%)]\t1.582201\n",
      "Train epoch: 5 [4000/60000 (7%)]\t1.560737\n",
      "Train epoch: 5 [6000/60000 (10%)]\t1.563988\n",
      "Train epoch: 5 [8000/60000 (13%)]\t1.514812\n",
      "Train epoch: 5 [10000/60000 (17%)]\t1.510281\n",
      "Train epoch: 5 [12000/60000 (20%)]\t1.550806\n",
      "Train epoch: 5 [14000/60000 (23%)]\t1.506806\n",
      "Train epoch: 5 [16000/60000 (27%)]\t1.548675\n",
      "Train epoch: 5 [18000/60000 (30%)]\t1.545998\n",
      "Train epoch: 5 [20000/60000 (33%)]\t1.510605\n",
      "Train epoch: 5 [22000/60000 (37%)]\t1.502587\n",
      "Train epoch: 5 [24000/60000 (40%)]\t1.549799\n",
      "Train epoch: 5 [26000/60000 (43%)]\t1.547134\n",
      "Train epoch: 5 [28000/60000 (47%)]\t1.539742\n",
      "Train epoch: 5 [30000/60000 (50%)]\t1.534537\n",
      "Train epoch: 5 [32000/60000 (53%)]\t1.542656\n",
      "Train epoch: 5 [34000/60000 (57%)]\t1.561971\n",
      "Train epoch: 5 [36000/60000 (60%)]\t1.529979\n",
      "Train epoch: 5 [38000/60000 (63%)]\t1.516914\n",
      "Train epoch: 5 [40000/60000 (67%)]\t1.536135\n",
      "Train epoch: 5 [42000/60000 (70%)]\t1.512420\n",
      "Train epoch: 5 [44000/60000 (73%)]\t1.528543\n",
      "Train epoch: 5 [46000/60000 (77%)]\t1.534652\n",
      "Train epoch: 5 [48000/60000 (80%)]\t1.569744\n",
      "Train epoch: 5 [50000/60000 (83%)]\t1.579280\n",
      "Train epoch: 5 [52000/60000 (87%)]\t1.515620\n",
      "Train epoch: 5 [54000/60000 (90%)]\t1.543796\n",
      "Train epoch: 5 [56000/60000 (93%)]\t1.554988\n",
      "Train epoch: 5 [58000/60000 (97%)]\t1.515565\n",
      "\n",
      " Test set: Average loss: 0.0150, Accuracy 9634/10000 (963%\n",
      ")\n",
      "Train epoch: 6 [0/60000 (0%)]\t1.541246\n",
      "Train epoch: 6 [2000/60000 (3%)]\t1.539518\n",
      "Train epoch: 6 [4000/60000 (7%)]\t1.520102\n",
      "Train epoch: 6 [6000/60000 (10%)]\t1.538853\n",
      "Train epoch: 6 [8000/60000 (13%)]\t1.523097\n",
      "Train epoch: 6 [10000/60000 (17%)]\t1.533115\n",
      "Train epoch: 6 [12000/60000 (20%)]\t1.618586\n",
      "Train epoch: 6 [14000/60000 (23%)]\t1.524688\n",
      "Train epoch: 6 [16000/60000 (27%)]\t1.538592\n",
      "Train epoch: 6 [18000/60000 (30%)]\t1.571327\n",
      "Train epoch: 6 [20000/60000 (33%)]\t1.545108\n",
      "Train epoch: 6 [22000/60000 (37%)]\t1.510992\n",
      "Train epoch: 6 [24000/60000 (40%)]\t1.519715\n",
      "Train epoch: 6 [26000/60000 (43%)]\t1.511004\n",
      "Train epoch: 6 [28000/60000 (47%)]\t1.507513\n",
      "Train epoch: 6 [30000/60000 (50%)]\t1.554533\n",
      "Train epoch: 6 [32000/60000 (53%)]\t1.569704\n",
      "Train epoch: 6 [34000/60000 (57%)]\t1.515381\n",
      "Train epoch: 6 [36000/60000 (60%)]\t1.571736\n",
      "Train epoch: 6 [38000/60000 (63%)]\t1.536227\n",
      "Train epoch: 6 [40000/60000 (67%)]\t1.533024\n",
      "Train epoch: 6 [42000/60000 (70%)]\t1.526541\n",
      "Train epoch: 6 [44000/60000 (73%)]\t1.575693\n",
      "Train epoch: 6 [46000/60000 (77%)]\t1.548331\n",
      "Train epoch: 6 [48000/60000 (80%)]\t1.520863\n",
      "Train epoch: 6 [50000/60000 (83%)]\t1.532870\n",
      "Train epoch: 6 [52000/60000 (87%)]\t1.518914\n",
      "Train epoch: 6 [54000/60000 (90%)]\t1.525859\n",
      "Train epoch: 6 [56000/60000 (93%)]\t1.537297\n",
      "Train epoch: 6 [58000/60000 (97%)]\t1.565018\n",
      "\n",
      " Test set: Average loss: 0.0149, Accuracy 9679/10000 (968%\n",
      ")\n",
      "Train epoch: 7 [0/60000 (0%)]\t1.522781\n",
      "Train epoch: 7 [2000/60000 (3%)]\t1.519155\n",
      "Train epoch: 7 [4000/60000 (7%)]\t1.579505\n",
      "Train epoch: 7 [6000/60000 (10%)]\t1.534509\n",
      "Train epoch: 7 [8000/60000 (13%)]\t1.523960\n",
      "Train epoch: 7 [10000/60000 (17%)]\t1.552948\n",
      "Train epoch: 7 [12000/60000 (20%)]\t1.525859\n",
      "Train epoch: 7 [14000/60000 (23%)]\t1.531411\n",
      "Train epoch: 7 [16000/60000 (27%)]\t1.520286\n",
      "Train epoch: 7 [18000/60000 (30%)]\t1.532325\n",
      "Train epoch: 7 [20000/60000 (33%)]\t1.552746\n",
      "Train epoch: 7 [22000/60000 (37%)]\t1.526178\n",
      "Train epoch: 7 [24000/60000 (40%)]\t1.496988\n",
      "Train epoch: 7 [26000/60000 (43%)]\t1.527436\n",
      "Train epoch: 7 [28000/60000 (47%)]\t1.590929\n",
      "Train epoch: 7 [30000/60000 (50%)]\t1.530824\n",
      "Train epoch: 7 [32000/60000 (53%)]\t1.536512\n",
      "Train epoch: 7 [34000/60000 (57%)]\t1.516361\n",
      "Train epoch: 7 [36000/60000 (60%)]\t1.581726\n",
      "Train epoch: 7 [38000/60000 (63%)]\t1.504005\n",
      "Train epoch: 7 [40000/60000 (67%)]\t1.547315\n",
      "Train epoch: 7 [42000/60000 (70%)]\t1.543787\n",
      "Train epoch: 7 [44000/60000 (73%)]\t1.504705\n",
      "Train epoch: 7 [46000/60000 (77%)]\t1.542476\n",
      "Train epoch: 7 [48000/60000 (80%)]\t1.509496\n",
      "Train epoch: 7 [50000/60000 (83%)]\t1.547298\n",
      "Train epoch: 7 [52000/60000 (87%)]\t1.531504\n",
      "Train epoch: 7 [54000/60000 (90%)]\t1.522977\n",
      "Train epoch: 7 [56000/60000 (93%)]\t1.507375\n",
      "Train epoch: 7 [58000/60000 (97%)]\t1.564903\n",
      "\n",
      " Test set: Average loss: 0.0149, Accuracy 9686/10000 (969%\n",
      ")\n",
      "Train epoch: 8 [0/60000 (0%)]\t1.568254\n",
      "Train epoch: 8 [2000/60000 (3%)]\t1.540702\n",
      "Train epoch: 8 [4000/60000 (7%)]\t1.566471\n",
      "Train epoch: 8 [6000/60000 (10%)]\t1.503383\n",
      "Train epoch: 8 [8000/60000 (13%)]\t1.526404\n",
      "Train epoch: 8 [10000/60000 (17%)]\t1.572168\n",
      "Train epoch: 8 [12000/60000 (20%)]\t1.482643\n",
      "Train epoch: 8 [14000/60000 (23%)]\t1.534091\n",
      "Train epoch: 8 [16000/60000 (27%)]\t1.555661\n",
      "Train epoch: 8 [18000/60000 (30%)]\t1.526690\n",
      "Train epoch: 8 [20000/60000 (33%)]\t1.471723\n",
      "Train epoch: 8 [22000/60000 (37%)]\t1.560842\n",
      "Train epoch: 8 [24000/60000 (40%)]\t1.524766\n",
      "Train epoch: 8 [26000/60000 (43%)]\t1.511480\n",
      "Train epoch: 8 [28000/60000 (47%)]\t1.498507\n",
      "Train epoch: 8 [30000/60000 (50%)]\t1.503325\n",
      "Train epoch: 8 [32000/60000 (53%)]\t1.513746\n",
      "Train epoch: 8 [34000/60000 (57%)]\t1.548544\n",
      "Train epoch: 8 [36000/60000 (60%)]\t1.526650\n",
      "Train epoch: 8 [38000/60000 (63%)]\t1.506058\n",
      "Train epoch: 8 [40000/60000 (67%)]\t1.568111\n",
      "Train epoch: 8 [42000/60000 (70%)]\t1.571133\n",
      "Train epoch: 8 [44000/60000 (73%)]\t1.531210\n",
      "Train epoch: 8 [46000/60000 (77%)]\t1.560409\n",
      "Train epoch: 8 [48000/60000 (80%)]\t1.511005\n",
      "Train epoch: 8 [50000/60000 (83%)]\t1.553723\n",
      "Train epoch: 8 [52000/60000 (87%)]\t1.504444\n",
      "Train epoch: 8 [54000/60000 (90%)]\t1.535055\n",
      "Train epoch: 8 [56000/60000 (93%)]\t1.542879\n",
      "Train epoch: 8 [58000/60000 (97%)]\t1.543861\n",
      "\n",
      " Test set: Average loss: 0.0149, Accuracy 9708/10000 (971%\n",
      ")\n",
      "Train epoch: 9 [0/60000 (0%)]\t1.511048\n",
      "Train epoch: 9 [2000/60000 (3%)]\t1.511087\n",
      "Train epoch: 9 [4000/60000 (7%)]\t1.541232\n",
      "Train epoch: 9 [6000/60000 (10%)]\t1.541358\n",
      "Train epoch: 9 [8000/60000 (13%)]\t1.520457\n",
      "Train epoch: 9 [10000/60000 (17%)]\t1.506425\n",
      "Train epoch: 9 [12000/60000 (20%)]\t1.537154\n",
      "Train epoch: 9 [14000/60000 (23%)]\t1.559792\n",
      "Train epoch: 9 [16000/60000 (27%)]\t1.517450\n",
      "Train epoch: 9 [18000/60000 (30%)]\t1.515484\n",
      "Train epoch: 9 [20000/60000 (33%)]\t1.543633\n",
      "Train epoch: 9 [22000/60000 (37%)]\t1.571549\n",
      "Train epoch: 9 [24000/60000 (40%)]\t1.537847\n",
      "Train epoch: 9 [26000/60000 (43%)]\t1.478638\n",
      "Train epoch: 9 [28000/60000 (47%)]\t1.544741\n",
      "Train epoch: 9 [30000/60000 (50%)]\t1.517706\n",
      "Train epoch: 9 [32000/60000 (53%)]\t1.582392\n",
      "Train epoch: 9 [34000/60000 (57%)]\t1.486662\n",
      "Train epoch: 9 [36000/60000 (60%)]\t1.534647\n",
      "Train epoch: 9 [38000/60000 (63%)]\t1.505071\n",
      "Train epoch: 9 [40000/60000 (67%)]\t1.510558\n",
      "Train epoch: 9 [42000/60000 (70%)]\t1.536795\n",
      "Train epoch: 9 [44000/60000 (73%)]\t1.535605\n",
      "Train epoch: 9 [46000/60000 (77%)]\t1.500842\n",
      "Train epoch: 9 [48000/60000 (80%)]\t1.563907\n",
      "Train epoch: 9 [50000/60000 (83%)]\t1.550248\n",
      "Train epoch: 9 [52000/60000 (87%)]\t1.546731\n",
      "Train epoch: 9 [54000/60000 (90%)]\t1.536549\n",
      "Train epoch: 9 [56000/60000 (93%)]\t1.533093\n",
      "Train epoch: 9 [58000/60000 (97%)]\t1.531484\n",
      "\n",
      " Test set: Average loss: 0.0149, Accuracy 9710/10000 (971%\n",
      ")\n",
      "Train epoch: 10 [0/60000 (0%)]\t1.484115\n",
      "Train epoch: 10 [2000/60000 (3%)]\t1.562372\n",
      "Train epoch: 10 [4000/60000 (7%)]\t1.522936\n",
      "Train epoch: 10 [6000/60000 (10%)]\t1.523383\n",
      "Train epoch: 10 [8000/60000 (13%)]\t1.500664\n",
      "Train epoch: 10 [10000/60000 (17%)]\t1.524832\n",
      "Train epoch: 10 [12000/60000 (20%)]\t1.525470\n",
      "Train epoch: 10 [14000/60000 (23%)]\t1.498039\n",
      "Train epoch: 10 [16000/60000 (27%)]\t1.535217\n",
      "Train epoch: 10 [18000/60000 (30%)]\t1.519765\n",
      "Train epoch: 10 [20000/60000 (33%)]\t1.510950\n",
      "Train epoch: 10 [22000/60000 (37%)]\t1.526741\n",
      "Train epoch: 10 [24000/60000 (40%)]\t1.523750\n",
      "Train epoch: 10 [26000/60000 (43%)]\t1.541222\n",
      "Train epoch: 10 [28000/60000 (47%)]\t1.528364\n",
      "Train epoch: 10 [30000/60000 (50%)]\t1.524764\n",
      "Train epoch: 10 [32000/60000 (53%)]\t1.555684\n",
      "Train epoch: 10 [34000/60000 (57%)]\t1.511019\n",
      "Train epoch: 10 [36000/60000 (60%)]\t1.510450\n",
      "Train epoch: 10 [38000/60000 (63%)]\t1.528270\n",
      "Train epoch: 10 [40000/60000 (67%)]\t1.530711\n",
      "Train epoch: 10 [42000/60000 (70%)]\t1.545062\n",
      "Train epoch: 10 [44000/60000 (73%)]\t1.508326\n",
      "Train epoch: 10 [46000/60000 (77%)]\t1.549662\n",
      "Train epoch: 10 [48000/60000 (80%)]\t1.498649\n",
      "Train epoch: 10 [50000/60000 (83%)]\t1.531333\n",
      "Train epoch: 10 [52000/60000 (87%)]\t1.537975\n",
      "Train epoch: 10 [54000/60000 (90%)]\t1.527880\n",
      "Train epoch: 10 [56000/60000 (93%)]\t1.540407\n",
      "Train epoch: 10 [58000/60000 (97%)]\t1.554312\n",
      "\n",
      " Test set: Average loss: 0.0149, Accuracy 9736/10000 (974%\n",
      ")\n"
     ]
    }
   ],
   "source": [
    "for epoch in range(1,11):\n",
    "    train(epoch)\n",
    "    test()"
   ]
  },
  {
   "cell_type": "code",
   "execution_count": 27,
   "id": "958976c3",
   "metadata": {},
   "outputs": [
    {
     "data": {
      "text/plain": [
       "device(type='cpu')"
      ]
     },
     "execution_count": 27,
     "metadata": {},
     "output_type": "execute_result"
    }
   ],
   "source": [
    "device"
   ]
  },
  {
   "cell_type": "code",
   "execution_count": 25,
   "id": "3b741fd2",
   "metadata": {},
   "outputs": [
    {
     "name": "stderr",
     "output_type": "stream",
     "text": [
      "C:\\Users\\mukha\\AppData\\Local\\Temp\\ipykernel_28932\\1969689584.py:19: UserWarning: Implicit dimension choice for softmax has been deprecated. Change the call to include dim=X as an argument.\n",
      "  return F.softmax(x)\n"
     ]
    },
    {
     "name": "stdout",
     "output_type": "stream",
     "text": [
      "Prediciton:7\n"
     ]
    },
    {
     "data": {
      "image/png": "[encoded data removed]",
      "text/plain": [
       "<Figure size 640x480 with 1 Axes>"
      ]
     },
     "metadata": {},
     "output_type": "display_data"
    }
   ],
   "source": [
    "import matplotlib.pyplot as plt\n",
    "model.eval()\n",
    "\n",
    "data, target = test_data[0]\n",
    "data = data.unsqueeze(0).to(device)\n",
    "\n",
    "output= model(data)\n",
    "\n",
    "prediction = output.argmax(dim= 1, keepdim = True).item()\n",
    "print(f'Prediciton:{prediction}')\n",
    "image = data.squeeze(0).squeeze(0).cpu().numpy()\n",
    "\n",
    "plt.imshow(image, cmap='gray')\n",
    "plt.show()\n"
   ]
  },
  {
   "cell_type": "code",
   "execution_count": null,
   "id": "2149e11e",
   "metadata": {},
   "outputs": [],
   "source": []
  },
  {
   "cell_type": "code",
   "execution_count": null,
   "id": "6e68d96d",
   "metadata": {},
   "outputs": [],
   "source": []
  },
  {
   "cell_type": "code",
   "execution_count": null,
   "id": "0dc455f4",
   "metadata": {},
   "outputs": [],
   "source": []
  },
  {
   "cell_type": "code",
   "execution_count": null,
   "id": "3c44d84d",
   "metadata": {},
   "outputs": [],
   "source": []
  },
  {
   "cell_type": "code",
   "execution_count": null,
   "id": "4cf0932d",
   "metadata": {},
   "outputs": [],
   "source": []
  },
  {
   "cell_type": "code",
   "execution_count": null,
   "id": "8f91e25f",
   "metadata": {},
   "outputs": [],
   "source": []
  },
  {
   "cell_type": "code",
   "execution_count": null,
   "id": "f601343d",
   "metadata": {},
   "outputs": [],
   "source": []
  },
  {
   "cell_type": "code",
   "execution_count": null,
   "id": "7af14ff1",
   "metadata": {},
   "outputs": [],
   "source": []
  },
  {
   "cell_type": "code",
   "execution_count": null,
   "id": "97137023",
   "metadata": {},
   "outputs": [],
   "source": []
  },
  {
   "cell_type": "code",
   "execution_count": null,
   "id": "e712ff82",
   "metadata": {},
   "outputs": [],
   "source": []
  },
  {
   "cell_type": "code",
   "execution_count": null,
   "id": "effa3c84",
   "metadata": {},
   "outputs": [],
   "source": []
  },
  {
   "cell_type": "code",
   "execution_count": null,
   "id": "a40a24da",
   "metadata": {},
   "outputs": [],
   "source": []
  },
  {
   "cell_type": "code",
   "execution_count": null,
   "id": "972a16e4",
   "metadata": {},
   "outputs": [],
   "source": []
  },
  {
   "cell_type": "code",
   "execution_count": null,
   "id": "ca285c96",
   "metadata": {},
   "outputs": [],
   "source": []
  },
  {
   "cell_type": "code",
   "execution_count": null,
   "id": "9f006400",
   "metadata": {},
   "outputs": [],
   "source": []
  },
  {
   "cell_type": "code",
   "execution_count": null,
   "id": "ecef3733",
   "metadata": {},
   "outputs": [],
   "source": []
  },
  {
   "cell_type": "code",
   "execution_count": null,
   "id": "09457286",
   "metadata": {},
   "outputs": [],
   "source": []
  },
  {
   "cell_type": "code",
   "execution_count": null,
   "id": "201532fc",
   "metadata": {},
   "outputs": [],
   "source": []
  },
  {
   "cell_type": "code",
   "execution_count": null,
   "id": "d1a574c2",
   "metadata": {},
   "outputs": [],
   "source": []
  },
  {
   "cell_type": "code",
   "execution_count": null,
   "id": "9efb3a31",
   "metadata": {},
   "outputs": [],
   "source": []
  },
  {
   "cell_type": "code",
   "execution_count": null,
   "id": "08a65800",
   "metadata": {},
   "outputs": [],
   "source": []
  },
  {
   "cell_type": "code",
   "execution_count": null,
   "id": "3185cf3f",
   "metadata": {},
   "outputs": [],
   "source": []
  }
 ],
 "metadata": {
  "kernelspec": {
   "display_name": "Python 3",
   "language": "python",
   "name": "python3"
  },
  "language_info": {
   "codemirror_mode": {
    "name": "ipython",
    "version": 3
   },
   "file_extension": ".py",
   "mimetype": "text/x-python",
   "name": "python",
   "nbconvert_exporter": "python",
   "pygments_lexer": "ipython3",
   "version": "3.10.2"
  }
 },
 "nbformat": 4,
 "nbformat_minor": 5
}
